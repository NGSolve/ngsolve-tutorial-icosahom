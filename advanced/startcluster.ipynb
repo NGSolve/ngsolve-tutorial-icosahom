{
 "cells": [
  {
   "cell_type": "markdown",
   "id": "095d1251",
   "metadata": {},
   "source": [
    "Notebook for starting an MPI cluster\n",
    "---\n",
    "\n",
    "Execute the following cell. You should see output like \n",
    "\n",
    "\n",
    "`2021-07-14 13:09:23.234 [IPClusterStart] Starting 8 Engines with LocalEngineSetLauncher`\n",
    "\n",
    "`2021-07-14 13:09:53.983 [IPClusterStart] Engines appear to have started successfully`\n",
    "\n",
    "\n",
    "Keep the cell running and the notebook open, and go back to the mpi tutorial notebook."
   ]
  },
  {
   "cell_type": "code",
   "execution_count": null,
   "id": "8adb25f8",
   "metadata": {},
   "outputs": [],
   "source": [
    "!ipcluster start --engines=MPI -n 8"
   ]
  },
  {
   "cell_type": "code",
   "execution_count": null,
   "id": "773c2695",
   "metadata": {},
   "outputs": [],
   "source": []
  }
 ],
 "metadata": {
  "kernelspec": {
   "display_name": "Python 3",
   "language": "python",
   "name": "python3"
  },
  "language_info": {
   "codemirror_mode": {
    "name": "ipython",
    "version": 3
   },
   "file_extension": ".py",
   "mimetype": "text/x-python",
   "name": "python",
   "nbconvert_exporter": "python",
   "pygments_lexer": "ipython3",
   "version": "3.9.5"
  }
 },
 "nbformat": 4,
 "nbformat_minor": 5
}
