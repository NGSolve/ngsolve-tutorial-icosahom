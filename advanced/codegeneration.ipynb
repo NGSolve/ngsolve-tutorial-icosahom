{
 "cells": [
  {
   "cell_type": "markdown",
   "id": "9ec09b63",
   "metadata": {},
   "source": [
    "Code generation\n",
    "==="
   ]
  },
  {
   "cell_type": "markdown",
   "id": "e05c7397",
   "metadata": {},
   "source": [
    "* Symbolic function is parsed in Python\n",
    "* and stored as C++ expression tree\n",
    "* Can be evaluated at runtime purely within C++, and in parallel\n",
    "* optionally, we can generate C++ code, compile and link in dynamically"
   ]
  },
  {
   "cell_type": "code",
   "execution_count": null,
   "id": "1f9dd604",
   "metadata": {},
   "outputs": [],
   "source": [
    "from ngsolve import *"
   ]
  },
  {
   "cell_type": "code",
   "execution_count": null,
   "id": "27064f9f",
   "metadata": {},
   "outputs": [],
   "source": [
    "myfunc = x * sin(y)"
   ]
  },
  {
   "cell_type": "code",
   "execution_count": null,
   "id": "9058f698",
   "metadata": {},
   "outputs": [],
   "source": [
    "print (myfunc)"
   ]
  },
  {
   "cell_type": "markdown",
   "id": "5e30b1c2",
   "metadata": {},
   "source": [
    "Generates a compiled instance of this function. Look for files `code*.cpp`"
   ]
  },
  {
   "cell_type": "code",
   "execution_count": null,
   "id": "463c6327",
   "metadata": {},
   "outputs": [],
   "source": [
    "myfunc_compiled = myfunc.Compile(realcompile=True)"
   ]
  },
  {
   "cell_type": "code",
   "execution_count": null,
   "id": "5fab07b5",
   "metadata": {},
   "outputs": [],
   "source": [
    "!ls -rtl"
   ]
  },
  {
   "cell_type": "code",
   "execution_count": null,
   "id": "8469d0ad",
   "metadata": {},
   "outputs": [],
   "source": [
    "!cat code0_0.cpp"
   ]
  },
  {
   "cell_type": "raw",
   "id": "c1ab3ae5",
   "metadata": {},
   "source": [
    "We generate functions for evaluating the function in integration points.\n",
    "* input are the mapped points,\n",
    "* output is the vector valued function for all points\n",
    "\n",
    "Generate functions for\n",
    "* scalar evaluaten and simded evaluation (e.g. 4 points at once)\n",
    "* function, and first and second derivatives with respect to trial functions"
   ]
  },
  {
   "cell_type": "markdown",
   "id": "1719287d",
   "metadata": {},
   "source": [
    "Compiling code snippets at runtime\n",
    "==="
   ]
  },
  {
   "cell_type": "code",
   "execution_count": null,
   "id": "351e497e",
   "metadata": {},
   "outputs": [],
   "source": [
    "def VertexPatchBlocks(fes):\n",
    "    mesh = fes.mesh\n",
    "    blocks = []\n",
    "    freedofs = fes.FreeDofs()\n",
    "    for v in mesh.vertices:\n",
    "        vdofs = set()\n",
    "        for el in mesh[v].elements:\n",
    "            vdofs |= set(d for d in fes.GetDofNrs(el)\n",
    "                         if freedofs[d])\n",
    "        blocks.append(vdofs)\n",
    "    return blocks"
   ]
  },
  {
   "cell_type": "code",
   "execution_count": null,
   "id": "cd4e6179",
   "metadata": {},
   "outputs": [],
   "source": [
    "from ngsolve.fem import CompilePythonModule\n",
    "\n",
    "code = \"\"\"\n",
    "auto lam = [](const FESpace & fes)->shared_ptr<Table<DofId>>\n",
    "{\n",
    "  auto ma = fes.GetMeshAccess();\n",
    "  size_t nv = ma->GetNV();\n",
    "  Array<int> dofs;\n",
    "  TableCreator<DofId> creator(nv+ma->GetNE());\n",
    "  \n",
    "  for ( ; !creator.Done(); creator++) {\n",
    "    for (size_t v : Range(nv))\n",
    "      creator.Add(v, v);\n",
    "      \n",
    "    for (size_t ed : Range(ma->GetNEdges())) {\n",
    "        fes.GetDofNrs( { NT_EDGE, ed }, dofs);\n",
    "        for (size_t v : ma->GetEdgePNums(ed)) \n",
    "          creator.Add(v, dofs);\n",
    "    }\n",
    "    \n",
    "    for (size_t fa : Range(ma->GetNFaces())) {\n",
    "        fes.GetDofNrs ( { NT_FACE, fa }, dofs);\n",
    "        for (size_t v : ma->GetFacePNums(fa)) \n",
    "          creator.Add(v, dofs);\n",
    "    }\n",
    "  }\n",
    "    \n",
    "  return make_shared<Table<DofId>>(creator.MoveTable());\n",
    "};\n",
    "m.def(\"VertexPatchBlocks\", lam);\n",
    "\n",
    "\"\"\""
   ]
  },
  {
   "cell_type": "code",
   "execution_count": null,
   "id": "00572b3d",
   "metadata": {},
   "outputs": [],
   "source": [
    "try:\n",
    "    m = CompilePythonModule(code)\n",
    "    blockcreator = m.VertexPatchBlocks\n",
    "    print (\"have c++ blocks\")\n",
    "except:\n",
    "    blockcreator = VertexPatchBlocks"
   ]
  },
  {
   "cell_type": "code",
   "execution_count": null,
   "id": "d8d3bb9f",
   "metadata": {},
   "outputs": [],
   "source": [
    "from ngsolve import *\n",
    "from netgen.geom2d import unit_square\n",
    "mesh = Mesh(unit_square.GenerateMesh(maxh=0.3))\n",
    "\n",
    "fes = H1(mesh, order=3)\n",
    "u,v = fes.TnT()\n",
    "a = BilinearForm(grad(u)*grad(v)*dx + u*v*dx).Assemble()\n",
    "\n",
    "\n",
    "pre = Preconditioner(a, \"local\", blockcreator=blockcreator)\n",
    "pre.Update()"
   ]
  },
  {
   "cell_type": "code",
   "execution_count": null,
   "id": "d23e680b",
   "metadata": {},
   "outputs": [],
   "source": [
    "from ngsolve.la import EigenValues_Preconditioner\n",
    "lam = EigenValues_Preconditioner(a.mat, pre.mat)\n",
    "print (lam)"
   ]
  },
  {
   "cell_type": "code",
   "execution_count": null,
   "id": "bb1ce3ec",
   "metadata": {},
   "outputs": [],
   "source": []
  },
  {
   "cell_type": "code",
   "execution_count": null,
   "id": "1a167499",
   "metadata": {},
   "outputs": [],
   "source": []
  }
 ],
 "metadata": {
  "kernelspec": {
   "display_name": "Python 3",
   "language": "python",
   "name": "python3"
  },
  "language_info": {
   "codemirror_mode": {
    "name": "ipython",
    "version": 3
   },
   "file_extension": ".py",
   "mimetype": "text/x-python",
   "name": "python",
   "nbconvert_exporter": "python",
   "pygments_lexer": "ipython3",
   "version": "3.9.5"
  }
 },
 "nbformat": 4,
 "nbformat_minor": 5
}
