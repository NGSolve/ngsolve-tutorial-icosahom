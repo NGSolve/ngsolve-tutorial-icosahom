{
 "cells": [
  {
   "cell_type": "markdown",
   "id": "98a4bf41",
   "metadata": {},
   "source": [
    "Wave Equation\n",
    "===\n",
    "\n",
    "We solve the first order wave equation by a matrix-free explicit DG method.\n",
    "\n",
    "\\begin{eqnarray*}\n",
    "\\frac{\\partial p}{\\partial t} & = & \\operatorname{div} u \\\\\n",
    "\\frac{\\partial u}{\\partial t} & = & \\nabla p\n",
    "\\end{eqnarray*}\n",
    "\n",
    "We obtain the ODE \n",
    "\\begin{eqnarray*}\n",
    "M_p \\dot{p} & = & -B^T u \\\\\n",
    "M_u \\dot{u} & = & B p\n",
    "\\end{eqnarray*}\n",
    "\n",
    "form a simple DG version with central fluxes. The discrete gradient $B$ is defined by the bilinear-form\n",
    "$$\n",
    "b(p,v) = \\sum_{T}\n",
    "\\Big\\{ \\int_T \\nabla p  \\, v + \\int_{\\partial T} (p- \\{ p \\}) \\, v_n \\, ds \\Big\\} \n",
    "$$\n",
    "\n",
    "It conserves energy, but is not free of spurious modes.\n",
    "\n",
    "Hesthaven+Warbuton: Nodal Discontinuous Galerkin Methods"
   ]
  },
  {
   "cell_type": "code",
   "execution_count": null,
   "id": "cbc8a79f",
   "metadata": {},
   "outputs": [],
   "source": [
    "from ngsolve import *\n",
    "from ngsolve.webgui import Draw\n",
    "\n",
    "dim = 2\n",
    "\n",
    "if dim==2:\n",
    "    from netgen.geom2d import SplineGeometry\n",
    "    geo = SplineGeometry()\n",
    "    geo.AddRectangle( (-1, -1), (1, 1), bcs = (\"bottom\", \"right\", \"top\", \"left\"))\n",
    "    geo.AddCircle ( (0.5, 0), r=0.2, leftdomain=0, rightdomain=1)\n",
    "    h = 0.05\n",
    "\n",
    "else:\n",
    "    from netgen.csg import *\n",
    "    geo = CSGeometry()\n",
    "    box = OrthoBrick (Pnt(-1,-1,-1), Pnt(1,1,0))\n",
    "    hole = Sphere( Pnt(0.5, 0, 0), 0.2 )\n",
    "    geo.Add ( (box-hole).bc(\"outer\"))\n",
    "    h = 0.1\n",
    "    \n",
    "    \n",
    "mesh = Mesh( geo.GenerateMesh(maxh=h))\n",
    "mesh.Curve(3)\n",
    "Draw(mesh);"
   ]
  },
  {
   "cell_type": "markdown",
   "id": "07496f83",
   "metadata": {},
   "source": [
    "A new component is the `TraceOperator`:\n",
    "\n",
    "Space provide geometry-free linear operators mapping form the element space to the face space. Face values can be averaged, or are summed up."
   ]
  },
  {
   "cell_type": "code",
   "execution_count": null,
   "id": "19bd5a70",
   "metadata": {},
   "outputs": [],
   "source": [
    "order = 5\n",
    "fes_p = L2(mesh, order=order+1, all_dofs_together=True)\n",
    "fes_u = VectorL2(mesh, order=order, piola=True)\n",
    "fes_tr = FacetFESpace(mesh, order=order+1)\n",
    "\n",
    "traceop = fes_p.TraceOperator(fes_tr, average=True) \n",
    "\n",
    "gfu = GridFunction(fes_u)\n",
    "gfp = GridFunction(fes_p)\n",
    "gftr = GridFunction(fes_tr)\n",
    "\n",
    "gfp.Interpolate( exp(-400*(x**2+y**2+z**2)))\n",
    "gftr.vec.data = traceop * gfp.vec"
   ]
  },
  {
   "cell_type": "code",
   "execution_count": null,
   "id": "24eb1791",
   "metadata": {},
   "outputs": [],
   "source": [
    "if dim == 2:\n",
    "    Draw (gfp, order=3)\n",
    "else:\n",
    "    gftr.vec.data = traceop * gfp.vec\n",
    "    Draw (gftr, draw_vol=False, order=3);"
   ]
  },
  {
   "cell_type": "code",
   "execution_count": null,
   "id": "7820887f",
   "metadata": {},
   "outputs": [],
   "source": [
    "p = fes_p.TrialFunction()\n",
    "v = fes_u.TestFunction()\n",
    "phat = fes_tr.TrialFunction()\n",
    "\n",
    "n = specialcf.normal(mesh.dim)"
   ]
  },
  {
   "cell_type": "markdown",
   "id": "9b1bd627",
   "metadata": {},
   "source": [
    "We define bilinear-forms for the element-wise $p$, and for the facet-wise $p_{trace}$, the test-function is $v$. Thanks to the co-variant mapping of $v$, both forms are independent of element-geometry, and only one element matrix is calculated for the reference element(s): "
   ]
  },
  {
   "cell_type": "code",
   "execution_count": null,
   "id": "eb83f004",
   "metadata": {},
   "outputs": [],
   "source": [
    "Bel = BilinearForm(trialspace=fes_p, testspace=fes_u, geom_free = True)\n",
    "Bel += grad(p)*v * dx -p*(v*n) * dx(element_boundary=True)\n",
    "Bel.Assemble()\n",
    "\n",
    "Btr = BilinearForm(trialspace=fes_tr, testspace=fes_u, geom_free = True)\n",
    "Btr += phat * (v*n) *dx(element_boundary=True)\n",
    "Btr.Assemble();"
   ]
  },
  {
   "cell_type": "markdown",
   "id": "47d2705a",
   "metadata": {},
   "source": [
    "Combine linear operators:"
   ]
  },
  {
   "cell_type": "code",
   "execution_count": null,
   "id": "725e853a",
   "metadata": {},
   "outputs": [],
   "source": [
    "B = Bel.mat + Btr.mat @ traceop"
   ]
  },
  {
   "cell_type": "markdown",
   "id": "fa7631c7",
   "metadata": {},
   "source": [
    "Inverse mass matrices: either (block)diagonal, or operator application via sum factorization:"
   ]
  },
  {
   "cell_type": "code",
   "execution_count": null,
   "id": "b18c8834",
   "metadata": {},
   "outputs": [],
   "source": [
    "invmassp = fes_p.Mass(1).Inverse()\n",
    "invmassu = fes_u.Mass(1).Inverse()"
   ]
  },
  {
   "cell_type": "code",
   "execution_count": null,
   "id": "aec05549",
   "metadata": {},
   "outputs": [],
   "source": [
    "if dim == 2:\n",
    "    scene = Draw (gfp, order=2);\n",
    "else:\n",
    "    scene = Draw (gftr, draw_vol=False, order=3);\n",
    "\n",
    "\n",
    "t = 0\n",
    "tend = 3\n",
    "dt = 0.5 * h / (order+1)**2\n",
    "print (\"dt = \", dt)\n",
    "\n",
    "cnt = 0\n",
    "with TaskManager():\n",
    "    while t < tend:\n",
    "        t = t+dt\n",
    "        gfu.vec.data += dt * invmassu @ B * gfp.vec\n",
    "        gfp.vec.data -= dt * invmassp @ B.T * gfu.vec\n",
    "        cnt = cnt+1\n",
    "        if cnt%100 == 0:\n",
    "            if dim == 3:\n",
    "                gftr.vec.data = traceop * gfp.vec\n",
    "            scene.Redraw()"
   ]
  },
  {
   "cell_type": "code",
   "execution_count": null,
   "id": "01fa8c98",
   "metadata": {},
   "outputs": [],
   "source": []
  },
  {
   "cell_type": "code",
   "execution_count": null,
   "id": "f6ce735f",
   "metadata": {},
   "outputs": [],
   "source": []
  }
 ],
 "metadata": {
  "kernelspec": {
   "display_name": "Python 3",
   "language": "python",
   "name": "python3"
  },
  "language_info": {
   "codemirror_mode": {
    "name": "ipython",
    "version": 3
   },
   "file_extension": ".py",
   "mimetype": "text/x-python",
   "name": "python",
   "nbconvert_exporter": "python",
   "pygments_lexer": "ipython3",
   "version": "3.9.5"
  }
 },
 "nbformat": 4,
 "nbformat_minor": 5
}
