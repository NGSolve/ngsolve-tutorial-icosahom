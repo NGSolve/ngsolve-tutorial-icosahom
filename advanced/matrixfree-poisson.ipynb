{
 "cells": [
  {
   "cell_type": "markdown",
   "id": "5be65611",
   "metadata": {},
   "source": [
    "Matrix free operations\n",
    "====\n",
    "\n",
    "* By proper mapping, differential operators become geometry-free\n",
    "* For $L_2$-like spaces mass matrices become diagonal, and for \n",
    "vectorial $L_2$ $d\\times d$-block diagonal\n",
    "* for variable coefficient / curved elements we apply sum-factorization for $L_2$-spaces.\n",
    "* compose second order operators by operator algebra\n",
    "* simple preconditioning "
   ]
  },
  {
   "cell_type": "code",
   "execution_count": null,
   "id": "d8be1363",
   "metadata": {},
   "outputs": [],
   "source": [
    "from netgen.geom2d import *\n",
    "from ngsolve import *\n",
    "from ngsolve.webgui import Draw\n",
    "from ngsolve.comp import ConvertOperator\n",
    "from ngsolve.krylovspace import CGSolver\n",
    "from time import time"
   ]
  },
  {
   "cell_type": "code",
   "execution_count": null,
   "id": "0a7863fc",
   "metadata": {},
   "outputs": [],
   "source": [
    "geo = CSG2d()\n",
    "circle = Circle( center=(0,0), radius=1.0, \\\n",
    "                mat=\"mat1\", bc=\"outer\" )\n",
    "geo.Add (circle)\n",
    "\n",
    "mesh = Mesh(geo.GenerateMesh(maxh=0.5))\n",
    "mesh.Curve(3)\n",
    "Draw (mesh);"
   ]
  },
  {
   "cell_type": "markdown",
   "id": "27342319",
   "metadata": {},
   "source": [
    "The Gradient Operator from $H^1$ to $[L_2]^2$\n",
    "---\n",
    "\n",
    "We can generate the matrix representation for the Gradient operator as a sparse matrix"
   ]
  },
  {
   "cell_type": "code",
   "execution_count": null,
   "id": "65070dc5",
   "metadata": {},
   "outputs": [],
   "source": [
    "order = 3\n",
    "fes = H1(mesh, order=order)\n",
    "u,v = fes.TnT()\n",
    "\n",
    "fesgrad = VectorL2(mesh, order=order-1)\n",
    "gradop1 = ConvertOperator(fes, fesgrad, grad(u))\n",
    "\n",
    "print (gradop1)"
   ]
  },
  {
   "cell_type": "code",
   "execution_count": null,
   "id": "d1c620cb",
   "metadata": {},
   "outputs": [],
   "source": [
    "gfu = GridFunction(fes)\n",
    "gfu.Set (x*y)\n",
    "gfgrad = GridFunction(fesgrad)\n",
    "gfgrad.vec.data = gradop1 * gfu.vec\n",
    "Draw (gfgrad[0], mesh, order=3);"
   ]
  },
  {
   "cell_type": "markdown",
   "id": "74c024df",
   "metadata": {},
   "source": [
    "When we apply covariant mappings for the $[L_2]^2$-space, the gradient operator becomes independent of geometry:"
   ]
  },
  {
   "cell_type": "code",
   "execution_count": null,
   "id": "90aeaebe",
   "metadata": {},
   "outputs": [],
   "source": [
    "fesgrad2 = VectorL2(mesh, order=order-1, covariant=True)\n",
    "gradop2 = ConvertOperator(fes, fesgrad2, grad(u))\n",
    "print (gradop2)"
   ]
  },
  {
   "cell_type": "code",
   "execution_count": null,
   "id": "e613ea7f",
   "metadata": {},
   "outputs": [],
   "source": [
    "gfgrad2 = GridFunction(fesgrad2)\n",
    "gfgrad2.vec.data = gradop2 * gfu.vec\n",
    "Draw (gfgrad2[0], mesh, order=3);"
   ]
  },
  {
   "cell_type": "markdown",
   "id": "fabe8f98",
   "metadata": {},
   "source": [
    "This can be utilized by setting the flag `geom_free` for the convert operator. Then only the gradient for the reference element (or serveral of them) is computed. We deal with the so called sign conflict by sorting the elements into equivalence classes (need 2 for triangular meshes)."
   ]
  },
  {
   "cell_type": "code",
   "execution_count": null,
   "id": "79b3bc44",
   "metadata": {},
   "outputs": [],
   "source": [
    "fesgrad3 = VectorL2(mesh, order=order-1, covariant=True)\n",
    "gradop3 = ConvertOperator(fes, fesgrad3, grad(u), geom_free=True)\n",
    "print (gradop3)    # not a sparse matrix, but does not tell much"
   ]
  },
  {
   "cell_type": "code",
   "execution_count": null,
   "id": "6da2cbd9",
   "metadata": {},
   "outputs": [],
   "source": [
    "gfgrad3 = GridFunction(fesgrad3)\n",
    "gfgrad3.vec.data = gradop3 * gfu.vec\n",
    "Draw (gfgrad3[0], mesh, order=3);"
   ]
  },
  {
   "cell_type": "markdown",
   "id": "4c51eddc",
   "metadata": {},
   "source": [
    "Solving the Poisson equation with matrix-free operators\n",
    "---"
   ]
  },
  {
   "cell_type": "code",
   "execution_count": null,
   "id": "87109133",
   "metadata": {},
   "outputs": [],
   "source": [
    "mesh = Mesh(geo.GenerateMesh(maxh=0.2))\n",
    "for l in range(2):\n",
    "     mesh.ngmesh.Refine()\n",
    "mesh.Curve(5)\n",
    "Draw (mesh);"
   ]
  },
  {
   "cell_type": "code",
   "execution_count": null,
   "id": "d8c117b6",
   "metadata": {},
   "outputs": [],
   "source": [
    "order=10\n",
    "fes = H1(mesh, order=order, dirichlet=\"outer\")\n",
    "print (\"ndof =\", fes.ndof)\n",
    "u,v = fes.TnT()\n",
    "\n",
    "fesgrad = VectorL2(mesh, order=order-1, covariant=True)\n",
    "gradop = ConvertOperator(fes, fesgrad, grad(u), geom_free=True)\n",
    "material = fesgrad.Mass(1)    # mass matrix operator"
   ]
  },
  {
   "cell_type": "markdown",
   "id": "d730998d",
   "metadata": {},
   "source": [
    "A composition of linear operators:"
   ]
  },
  {
   "cell_type": "code",
   "execution_count": null,
   "id": "8abd787c",
   "metadata": {},
   "outputs": [],
   "source": [
    "laplaceop = gradop.T @ material @ gradop"
   ]
  },
  {
   "cell_type": "markdown",
   "id": "aa18c7bf",
   "metadata": {},
   "source": [
    "We apply diagonal preconditioning:"
   ]
  },
  {
   "cell_type": "code",
   "execution_count": null,
   "id": "1737c8b6",
   "metadata": {},
   "outputs": [],
   "source": [
    "adiag = BilinearForm(grad(u)*grad(v)*dx, diagonal=True).Assemble()\n",
    "invdiag = adiag.mat.Inverse(freedofs=fes.FreeDofs())"
   ]
  },
  {
   "cell_type": "code",
   "execution_count": null,
   "id": "cb986e24",
   "metadata": {},
   "outputs": [],
   "source": [
    "inv = CGSolver(laplaceop, invdiag, printrates='\\r', maxiter=2000)"
   ]
  },
  {
   "cell_type": "code",
   "execution_count": null,
   "id": "e8c4e704",
   "metadata": {},
   "outputs": [],
   "source": [
    "f = LinearForm(x*v*dx).Assemble()\n",
    "gfu = GridFunction(fes)"
   ]
  },
  {
   "cell_type": "code",
   "execution_count": null,
   "id": "da61ddb4",
   "metadata": {},
   "outputs": [],
   "source": [
    "from time import time\n",
    "ts = time()\n",
    "with TaskManager():\n",
    "    gfu.vec.data = inv * f.vec\n",
    "te = time()\n",
    "print (\"Time: \", te-ts)"
   ]
  },
  {
   "cell_type": "code",
   "execution_count": null,
   "id": "ca0ab6b2",
   "metadata": {},
   "outputs": [],
   "source": [
    "Draw (gfu);"
   ]
  },
  {
   "cell_type": "markdown",
   "id": "6c6db6c3",
   "metadata": {},
   "source": [
    "Low order space:\n",
    "---"
   ]
  },
  {
   "cell_type": "code",
   "execution_count": null,
   "id": "cf2e10aa",
   "metadata": {},
   "outputs": [],
   "source": [
    "feslo = H1(mesh, order=1, dirichlet=\"outer\")\n",
    "ulo,vlo = feslo.TnT()\n",
    "alo = BilinearForm(grad(ulo)*grad(vlo)*dx).Assemble()\n",
    "ainvlo1 = alo.mat.Inverse(feslo.FreeDofs(), inverse=\"sparsecholesky\")\n",
    "emb = Embedding(fes.ndof, IntRange(0, feslo.ndof))\n",
    "ainvlo = emb @ ainvlo1 @ emb.T"
   ]
  },
  {
   "cell_type": "code",
   "execution_count": null,
   "id": "0396324d",
   "metadata": {},
   "outputs": [],
   "source": [
    "pre = ainvlo + invdiag\n",
    "with TaskManager():\n",
    "    inv = CGSolver(laplaceop, pre, printrates='\\r', maxiter=2000)\n",
    "gfu.vec.data = inv * f.vec"
   ]
  },
  {
   "cell_type": "code",
   "execution_count": null,
   "id": "9129e3f9",
   "metadata": {},
   "outputs": [],
   "source": [
    "Draw (gfu, order=3);"
   ]
  },
  {
   "cell_type": "code",
   "execution_count": null,
   "id": "c00d0dd1",
   "metadata": {},
   "outputs": [],
   "source": []
  },
  {
   "cell_type": "code",
   "execution_count": null,
   "id": "d2effb3b",
   "metadata": {},
   "outputs": [],
   "source": []
  }
 ],
 "metadata": {
  "kernelspec": {
   "display_name": "Python 3",
   "language": "python",
   "name": "python3"
  },
  "language_info": {
   "codemirror_mode": {
    "name": "ipython",
    "version": 3
   },
   "file_extension": ".py",
   "mimetype": "text/x-python",
   "name": "python",
   "nbconvert_exporter": "python",
   "pygments_lexer": "ipython3",
   "version": "3.9.5"
  }
 },
 "nbformat": 4,
 "nbformat_minor": 5
}
